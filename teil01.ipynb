{
 "cells": [
  {
   "cell_type": "markdown",
   "metadata": {},
   "source": [
    "## Modell des Neurons"
   ]
  },
  {
   "cell_type": "markdown",
   "metadata": {},
   "source": [
    "Zwei Personen sind entweder anwesend oder nicht. Die Anwesenheiten (Eingänge) der ersten Person wird mit $x_1 \\in \\{0, 1\\}$ bezeichnet, die Anwesenheit der zweiten Person wird mit $x_2 \\in \\{0,1\\}$ bezeichnet.\n",
    "\n",
    "Die $\\mathbf{Eingangsgewichte}$ sind $w_1 = 1$ und $w_2 = 1$. Sie lassen sich verstehen als eine bisherige relative Häufigkeit oder interpretiert als eine Wahrscheinlicht, mit der sich eine Person sich in einem bestimmten Zustand (der Anwesenheit) befindet.\n",
    "\n",
    "Es ist zu entscheiden, wann einem Eingang welcher Wert zugeordnet wird. Dazu ist die Summe\n",
    "$$\n",
    "\\Sigma = w_1 \\cdot x_1 + w_2 \\cdot x_2 = x_1 + x_2\n",
    "$$\n",
    "zu berechnen.\n",
    "\n",
    "Betrachtet man die Situation des Beispiels, so ist ein gewünschter Zustand erreicht, wenn $\\Sigma \\geq 1=: \\phi$ gilt. (Wobei $\\phi$ unterschiedliche Werte annehmen kann, wie sich in den nächsten Beispielen zeigt.) Dazu bilden wir die Funktion $f$ über $\\mathbb{R}$ mit\n",
    "$$\n",
    "f(\\Sigma) = \\left\\{ \\begin{array}{cl} 0 & \\mbox{für } \\Sigma < 1 \\\\ 1 & \\mbox{für } \\Sigma \\geq 1 \\end{array}\\right.\n",
    "$$\n",
    "Trägt man die entsprechenden Werte in eine Tabelle ein, so ergibt sich:\n",
    "$$\n",
    "\\begin{array}{c|c|c|c}\n",
    "x_1 & x_2 & \\Sigma & f(\\Sigma)\n",
    "\\\\\n",
    "\\hline\n",
    "0 & 0 & 0 & 0\n",
    "\\\\\n",
    "0 & 1 & 1 & 1\n",
    "\\\\\n",
    "1 & 0 & 1 & 1\n",
    "\\\\\n",
    "1 & 1 & 2 & 1\n",
    "\\end{array}\n",
    "$$\n",
    "Nimmt man an, dass die Wahrscheinlichkeiten bestimmter Zustände $w_1 = \\frac{2}{3}$ und $w_2 = \\frac{1}{2}$ sind, gilt\n",
    "$$\n",
    "\\Sigma = w_1 \\cdot x_1 + w_2 \\cdot x_2 = \\frac{2}{3} \\cdot x_1 + \\frac{1}{2} \\cdot x_2\\, .\n",
    "$$\n",
    "Hierfür gilt:\n",
    "$$\n",
    "\\begin{array}{c|c|c|c}\n",
    "x_1 & x_2 & \\Sigma & f(\\Sigma)\n",
    "\\\\\n",
    "\\hline\n",
    "0 & 0 & 0 & 0\n",
    "\\\\\n",
    "0 & 1 & \\frac{1}{2} & 0\n",
    "\\\\\n",
    "1 & 0 & \\frac{2}{3} & 0\n",
    "\\\\\n",
    "1 & 1 & \\frac{7}{6} & 1\n",
    "\\end{array}\n",
    "$$\n",
    "Bisher wurde die Schwelle der Veränderung von $f(\\Sigma)$ auf $\\phi=1$ gelegt, d.h. $f(\\Sigma) = \\left\\{ \\begin{array}{cl} 0 & \\mbox{für } \\Sigma < 1 \\\\ 1 & \\mbox{für } \\Sigma \\geq 1 \\end{array}\\right.$. Die Ergebnisse verändern sich jedoch, wenn man den $\\mathbf{Schwellenwert}$ $\\phi$ anders legt. Setzt man beispielsweise $\\phi = \\frac{2}{3}$, so gilt für $f$ \n",
    "$$\n",
    "f(\\Sigma) = \\left\\{ \\begin{array}{cl} 0 & \\mbox{für } \\Sigma < \\phi = \\frac{2}{3} \\\\ 1 & \\mbox{für } \\Sigma \\geq \\phi = \\frac{2}{3}\\end{array}\\right.\\, .\n",
    "$$\n",
    "Damit ergibt sich\n",
    "$$\n",
    "\\begin{array}{c|c|c|c}\n",
    "x_1 & x_2 & \\Sigma & f(\\Sigma)\n",
    "\\\\\n",
    "\\hline\n",
    "0 & 0 & 0 & 0\n",
    "\\\\\n",
    "0 & 1 & \\frac{1}{2} & 0\n",
    "\\\\\n",
    "1 & 0 & \\frac{2}{3} & 1\n",
    "\\\\\n",
    "1 & 1 & \\frac{7}{6} & 1\n",
    "\\end{array}\n",
    "$$\n",
    "Mithilfe dieser Schwelle lässt sich das Ergebnis beeinflussen."
   ]
  },
  {
   "cell_type": "markdown",
   "metadata": {},
   "source": [
    "### Aufgabe 1\n",
    "Durch Veränderungen in den unterschiedlichen Parametern verändern sich vereinzelt sprunghaft die Werte $f(\\Sigma)$. Verändere in obigem Beispiel für den Fall des konstanten $\\phi = \\frac{2}{3}$ die Werte von $w_1$ und $w_2$. Interpretiere die Ergebnisse in Bezug auf die Anwesenheit von Personen an einem Ort."
   ]
  },
  {
   "cell_type": "code",
   "execution_count": 2,
   "metadata": {},
   "outputs": [],
   "source": [
    "def fkt(Sigma,phi):\n",
    "    if Sigma > phi:\n",
    "        return 1\n",
    "    else:\n",
    "        return 0"
   ]
  },
  {
   "cell_type": "markdown",
   "metadata": {},
   "source": [
    "Es lassen sich Funktionswerte berechnen und ausgeben."
   ]
  },
  {
   "cell_type": "code",
   "execution_count": 3,
   "metadata": {},
   "outputs": [
    {
     "name": "stdout",
     "output_type": "stream",
     "text": [
      "0\n"
     ]
    }
   ],
   "source": [
    "print(fkt(1,4/3))"
   ]
  },
  {
   "cell_type": "markdown",
   "metadata": {},
   "source": [
    "Es lassen sich auch Funktionsgraphen zeichnen:"
   ]
  },
  {
   "cell_type": "code",
   "execution_count": 4,
   "metadata": {},
   "outputs": [
    {
     "data": {
      "image/png": "[encoded data removed]",
      "text/plain": [
       "<Figure size 432x288 with 1 Axes>"
      ]
     },
     "metadata": {
      "needs_background": "light"
     },
     "output_type": "display_data"
    },
    {
     "name": "stdout",
     "output_type": "stream",
     "text": [
      "-1.9995999599959997\n",
      "0\n"
     ]
    }
   ],
   "source": [
    "import numpy as np\n",
    "import matplotlib.pyplot as plt\n",
    "\n",
    "X = np.linspace(-2, 2, 10000, endpoint=True)\n",
    "\n",
    "Y = [fkt(i,2/3) for i in X]\n",
    "\n",
    "\n",
    "#Jetzt folgt der Graph mit den Punkten\n",
    "plt.plot(X, Y, linewidth=2, linestyle=\"dashed\", label=\"fkt\")\n",
    "plt.legend()\n",
    "plt.show()\n",
    "print(X[1])\n",
    "print(Y[1])"
   ]
  },
  {
   "cell_type": "markdown",
   "metadata": {},
   "source": [
    "1. Zeichne Graphen der verschiedenen $\\phi$ oben\n",
    "2. Variiere die Variablen und Werte der Variablen, Funktionen oben. Notiere, welchen Einflüss Veränderungen haben.\n",
    "3. Ergänze die Ausgabe des Graphen und die Ausgabe von $\\Sigma$."
   ]
  },
  {
   "cell_type": "markdown",
   "metadata": {},
   "source": [
    "### Aufgabe 2\n",
    "Im Graphen liegt mathematisch gesehen ein Fehler. Nenne und erkläre ihn."
   ]
  },
  {
   "cell_type": "markdown",
   "metadata": {},
   "source": [
    "## Definition des Neurons\n",
    "Der Vorgang im Beispiel lässt sich durch ein $\\mathbf{Neuron}$ darstellen:\n",
    "\n",
    "$$\n",
    "\\begin{array}{ccccccc}\n",
    "x_1 & \\rightarrow & w_1 & \n",
    "\\\\\n",
    "& & & \\searrow & & &\n",
    "\\\\\n",
    "& & & & \\Sigma = w_1 x_1 + w_2 x_2 & \\rightarrow & a = f(\\Sigma)\n",
    "\\\\\n",
    "& & & \\nearrow & & &\n",
    "\\\\\n",
    "x_2 & \\rightarrow & w_2 & & & &\n",
    "\\end{array}\n",
    "$$\n",
    "\n",
    "Hierbei bezeichnen:\n",
    "\n",
    "1. $x_1, x_2$: $\\mathbf{Eingänge}$ $\\leadsto$ Es handelt sich um konkrete Eingabewerte.\n",
    "2. $w_1, w_2$: $\\mathbf{Eingangsgewichte}$ oder einfach $\\mathbf{Gewichte}$ $\\leadsto$ Diese Werte legen fest, wie stark jeder Eingabewert zu berücksichtigen ist.\n",
    "3. $\\Sigma$: Es handelt sich um die Summe der Produkte $x_i \\cdot w_i$. Notiert man die $x_i$ und $w_i$ in Form liegender und stehender Vektoren, multipliziert sie mit einander und wendet die Summenschreibweise an, so ist\n",
    "$$\n",
    "\\left( w_1 \\quad w_2\\right) \\odot \\left( {x_1 \\atop x_2}\\right) = \\sum_{i=1}^2 x_i \\cdot w_i\\, .\n",
    "$$\n",
    "Zur Unterscheidung von der Multiplikation reeller Zahlen wurde hier die Multiplikation der Vektoren durch \"$\\odot$\" notiert.\n",
    "\n",
    "Diese Schreibweise lässt sich auf eine beliebige Anzahl von Eingängen und Eingangsgewichten übertragen:\n",
    "$$\n",
    "\\left( w_1 \\quad w_2 \\quad \\cdots \\quad w_n \\right) \\odot \\left( \\begin{array}{c} x_1 \\\\ x_2 \\\\ \\vdots \\\\ x_n \\end{array} \\right) = \\sum_{i=1}^n x_i \\cdot w_i\\, .\n",
    "$$\n",
    "Es handelt sich um die $\\mathbf{gewichtete}\\, \\mathbf{Summe}$.\n",
    "4. Zwischen den unterschiedlichen Ausgaben - hier 0 und 1 - ist eine Grenze zu setzen, der $\\mathbf{Schwellenwert}$ $\\phi$.\n",
    "5. Die Ausgabe wird über die $\\mathbf{Ausgabefunktion}$ oder $\\mathbf{Aktivierungsfunktion}$ $f\\colon\\, \\mathbb{R}\\to \\mathbb{R}$ geregelt. Für eine Stufenfunktion ist\n",
    "$$\n",
    "f (\\Sigma) = \\left\\{ \\begin{array}{cl}\n",
    "0 & \\mbox{ für } \\Sigma < \\phi\\, ,\n",
    "\\\\\n",
    "1 & \\mbox{ für } \\Sigma \\geq \\phi\\, .\n",
    "\\end{array}\\right.\n",
    "$$\n",
    "Die Ausgabe wird öfter einfach als $a$ oder $a_{ist}$ bezeichnet.\n",
    "6. In einem Verfahren werden Eingabewerte und Schwellenwerte so angepasst, dass ein bestimmtes Ergebnis eintritt."
   ]
  },
  {
   "cell_type": "markdown",
   "metadata": {},
   "source": [
    "### Aufgabe 3\n",
    "Gib den Entwurf eines Neurons für die Beispiele aus Aufgabe 1 an.\n",
    "Entwirf ein Neuron mit Python in den oben notierten Schritten. Definiere das Neuron dabei in Form einer Funktion."
   ]
  },
  {
   "cell_type": "markdown",
   "metadata": {},
   "source": [
    "#### Lösung von Aufgabe 3: Entwurf eines Neurons mit Python in einzelnen Schritten ####"
   ]
  },
  {
   "cell_type": "markdown",
   "metadata": {},
   "source": [
    "Zunächst werden die Eingangsgewichte definiert."
   ]
  },
  {
   "cell_type": "code",
   "execution_count": 5,
   "metadata": {},
   "outputs": [],
   "source": [
    "w1 = 1\n",
    "w2 = 1"
   ]
  },
  {
   "cell_type": "markdown",
   "metadata": {},
   "source": [
    "Nun wird der Schwellenwert gesetzt."
   ]
  },
  {
   "cell_type": "code",
   "execution_count": 6,
   "metadata": {},
   "outputs": [],
   "source": [
    "phi = 0.4"
   ]
  },
  {
   "cell_type": "markdown",
   "metadata": {},
   "source": [
    "Hier werden die Eingänge notiert. Beim späteren Rückgriff ist darauf zu achten, dass der Zähler bei 0 beginnt."
   ]
  },
  {
   "cell_type": "code",
   "execution_count": 7,
   "metadata": {},
   "outputs": [],
   "source": [
    "x1 = [0,1]\n",
    "x2 = [0,1]"
   ]
  },
  {
   "cell_type": "markdown",
   "metadata": {},
   "source": [
    "Hier folgt die Berechnung einzelner Varianten der gewichteten Summe $\\Sigma$. Dabei wird auf einzelne Elemente der Tupel x1 und x2 zugegriffen."
   ]
  },
  {
   "cell_type": "code",
   "execution_count": 8,
   "metadata": {},
   "outputs": [
    {
     "data": {
      "text/plain": [
       "0"
      ]
     },
     "execution_count": 8,
     "metadata": {},
     "output_type": "execute_result"
    }
   ],
   "source": [
    "x1[0]*w1 + x2[0]*w2"
   ]
  },
  {
   "cell_type": "markdown",
   "metadata": {},
   "source": [
    "Es folgt die Liste der Berechnung aller Möglichkeiten von $\\Sigma$ in diesem Beispiel. Die Tabelle besitzt die Struktur $x_1, x_2, \\Sigma$ und den $f(\\Sigma)$."
   ]
  },
  {
   "cell_type": "code",
   "execution_count": 9,
   "metadata": {},
   "outputs": [
    {
     "name": "stdout",
     "output_type": "stream",
     "text": [
      "0 0 0 0\n",
      "0 1 1 1\n",
      "1 0 1 1\n",
      "1 1 2 1\n"
     ]
    }
   ],
   "source": [
    "for i in [0,1]:\n",
    "    for j in [0,1]:\n",
    "        Sigma = x1[i]*w1 + x2[j]*w2\n",
    "        if Sigma < phi:\n",
    "            print(x1[i],x2[j],Sigma,0)\n",
    "        else :\n",
    "            print(x1[i],x2[j],Sigma,1)"
   ]
  },
  {
   "cell_type": "markdown",
   "metadata": {},
   "source": [
    "#### Das Neuron in einer Funktion ####"
   ]
  },
  {
   "cell_type": "markdown",
   "metadata": {},
   "source": [
    "Ein Neuron lässt sich unter Python in Form einer Funktion definieren. Die verschiedenen Größen sind Variablen der Funktion."
   ]
  },
  {
   "cell_type": "code",
   "execution_count": 10,
   "metadata": {},
   "outputs": [],
   "source": [
    "def neuron01( x1, x2, w1, w2, phi ):\n",
    "    for i in [0,1]:\n",
    "        for j in [0,1]:\n",
    "            Sigma = x1[i]*w1 + x2[j]*w2\n",
    "            if Sigma < phi:\n",
    "                print(x1[i],x2[j],Sigma,0)\n",
    "            else :\n",
    "                print(x1[i],x2[j],Sigma,1)"
   ]
  },
  {
   "cell_type": "markdown",
   "metadata": {},
   "source": [
    "Wir nehmen an, dass $x_1 = [0,\\! 7;0,\\! 25]$ und $x_2 = [0,\\! 2; 0,\\! 3]$ existierende Werte sind. Ferner legen wir $w_1=1,\\! 0$ und $w_2=0,\\! 8$ fest. Es soll $\\phi = 1$ sein. Hiermit lässt sich $\\Sigma$ berechnen:"
   ]
  },
  {
   "cell_type": "code",
   "execution_count": 11,
   "metadata": {},
   "outputs": [],
   "source": [
    "x1 = [0.7,0.25]\n",
    "x2 = [0.2,0.3]\n",
    "w1 = 1.0\n",
    "w2 = 0.8\n",
    "phi = 1"
   ]
  },
  {
   "cell_type": "markdown",
   "metadata": {},
   "source": [
    "Es folgt die Liste der Berechnung von $\\Sigma$. Die Tabelle besitzt die Struktur $x_1, x_2, \\Sigma$ und den $f(\\Sigma)$."
   ]
  },
  {
   "cell_type": "code",
   "execution_count": 12,
   "metadata": {},
   "outputs": [
    {
     "name": "stdout",
     "output_type": "stream",
     "text": [
      "0.7 0.2 0.86 0\n",
      "0.7 0.3 0.94 0\n",
      "0.25 0.2 0.41000000000000003 0\n",
      "0.25 0.3 0.49 0\n"
     ]
    }
   ],
   "source": [
    "neuron01(x1,x2,w1,w2,phi)"
   ]
  },
  {
   "cell_type": "markdown",
   "metadata": {},
   "source": [
    "## Lernverfahren"
   ]
  },
  {
   "cell_type": "markdown",
   "metadata": {},
   "source": [
    "### Beispiel:\n",
    "Eine Mixed-Volleyballmannschaft besteht aus drei Frauen (F) und vier Männern (M). Ihre Körpergrößen und ihre Gewichte sind in der folgenden Tabelle erkennbar:\n",
    "\n",
    "<table style=\"width:60%\">\n",
    "    <tr>\n",
    "        <th>Person</th>\n",
    "        <th>Größe in cm</th>\n",
    "        <th>Gewicht in kg</th>            \n",
    "    </tr>\n",
    "    <tr>\n",
    "        <td>F1</td>\n",
    "        <td>165</td>\n",
    "        <td>50</td>\n",
    "    </tr>\n",
    "    <tr>\n",
    "        <td>F2</td>\n",
    "        <td>175</td>\n",
    "        <td>50</td>\n",
    "    </tr>\n",
    "    <tr>\n",
    "        <td>F3</td>\n",
    "        <td>190</td>\n",
    "        <td>70</td>\n",
    "    </tr>\n",
    "    <tr>\n",
    "        <td>M1</td>\n",
    "        <td>175</td>\n",
    "        <td>70</td>\n",
    "    </tr>\n",
    "    <tr>\n",
    "        <td>M2</td>\n",
    "        <td>185</td>\n",
    "        <td>80</td>\n",
    "    </tr>\n",
    "    <tr>\n",
    "        <td>M3</td>\n",
    "        <td>195</td>\n",
    "        <td>100</td>\n",
    "    </tr>\n",
    "    <tr>\n",
    "        <td>M4</td>\n",
    "        <td>205</td>\n",
    "        <td>100</td>\n",
    "    </tr>\n",
    "</table>\n",
    "\n",
    "Um das Ganze etwas übersichtlicher zu machen, werden die Werte auf bestimmte Werte \"skaliert\". Dabei werden zur Skalierung \"runde\" Werte oberhalb der Höchstwerte gewählt. Bei der Größe wählen wir zur Skalierung 250 cm, beim Gewicht 200 kg. Die entsprechenden Werte werden als die Eingänge $x_1$ und $x_2$ gewählt. Damit ergibt sich die folgende Tabelle:\n",
    "\n",
    "<table style=\"width:60%\">\n",
    "    <tr>\n",
    "        <th>Person</th>\n",
    "        <th>Größe in cm / 250 cm</th>\n",
    "        <th>Gewicht in kg / 200 kg</th>            \n",
    "    </tr>\n",
    "    <tr>\n",
    "        <td> </td>\n",
    "        <td>$x_1$</td>\n",
    "        <td>$x_2$</td>\n",
    "    </tr>\n",
    "    <tr>\n",
    "        <td>F1</td>\n",
    "        <td>0,66</td>\n",
    "        <td>0,25</td>\n",
    "    </tr>\n",
    "    <tr>\n",
    "        <td>F2</td>\n",
    "        <td>0,70</td>\n",
    "        <td>0,25</td>\n",
    "    </tr>\n",
    "    <tr>\n",
    "        <td>F3</td>\n",
    "        <td>0,76</td>\n",
    "        <td>0,35</td>\n",
    "    </tr>\n",
    "    <tr>\n",
    "        <td>M1</td>\n",
    "        <td>0,70</td>\n",
    "        <td>0,35</td>\n",
    "    </tr>\n",
    "    <tr>\n",
    "        <td>M2</td>\n",
    "        <td>0,74</td>\n",
    "        <td>0,40</td>\n",
    "    </tr>\n",
    "    <tr>\n",
    "        <td>M3</td>\n",
    "        <td>0,78</td>\n",
    "        <td>0,50</td>\n",
    "    </tr>\n",
    "    <tr>\n",
    "        <td>M4</td>\n",
    "        <td>0,82</td>\n",
    "        <td>0,50</td>\n",
    "    </tr>\n",
    "</table>\n",
    "\n",
    "Es soll analog zur Trennung von Raupen und Marienkäfern eine Unterscheidung zwischen Männern und Frauen der Mannschaft unter Bezug auf die Größe und das Gewicht der Person möglich gemacht werden, um die Anschaffung von Trikos und Trainigsmaterial planen zu können. Hierfür sind Tupel $(x_1,x_2)$ der Personen zu wählen. Wir sehen uns hier an, wie die zu den Tabellenwerten gehörenden Punkte im Koordinatensystem liegen."
   ]
  },
  {
   "cell_type": "markdown",
   "metadata": {},
   "source": [
    "Schritt 1:\n",
    "\n",
    "Um ein Streudiagramm zeichnen zu können, ist ein Paket zu laden und die Möglichkeit zu schaffen, einen Plot anzuzeigen."
   ]
  },
  {
   "cell_type": "code",
   "execution_count": 13,
   "metadata": {},
   "outputs": [],
   "source": [
    "# Skatter-Plot (Streudiagramm)\n",
    "import matplotlib.pyplot as plt\n",
    "# Um einen Plot anzuzeigen\n",
    "%matplotlib inline"
   ]
  },
  {
   "cell_type": "markdown",
   "metadata": {},
   "source": [
    "Schritt 2:\n",
    "\n",
    "Python Listen sind zur Anwendung in NumPy-Arrays umzuwandeln. Dazu ist ein Paket zu laden.\n",
    "\n",
    "(Hinweis. Prinzipiell lässt sich unter NumPy auch mit Matrizen arbeiten. Bei arrays lässt sich jedoch einfacher mit einzelnen Elementen arbeiten, wie unten noch deutlich wird. Daher haben wir hier mit arrays gearbeitet.)"
   ]
  },
  {
   "cell_type": "code",
   "execution_count": 14,
   "metadata": {},
   "outputs": [],
   "source": [
    "import numpy as np"
   ]
  },
  {
   "cell_type": "markdown",
   "metadata": {},
   "source": [
    "Schritt 3:\n",
    "\n",
    "Die $x_1$-Werte und die $x_2$-Werte sind jeweils in Arrays zu übertragen."
   ]
  },
  {
   "cell_type": "code",
   "execution_count": 15,
   "metadata": {},
   "outputs": [],
   "source": [
    "# Hier werden die x_1-Koordinaten definiert\n",
    "x1 = np.array([0.66, 0.70, 0.76, 0.70, 0.74, 0.78, 0.82])\n",
    "# Hier werden die x_2-Koordinaten definiert\n",
    "x2 = np.array([0.25, 0.25, 0.35, 0.35, 0.40, 0.50, 0.50])"
   ]
  },
  {
   "cell_type": "markdown",
   "metadata": {},
   "source": [
    "Schritt 4:\n",
    "\n",
    "$(x_1[i]|x_2[i])$ mit Elementen $x_1[i]$ aus der Liste $x_1$ und Elementen $x_2[i]$ aus der Liste $x_2$ können als Punkte in einem Koordinatensystem betrachtet werden.\n",
    "\n",
    "Um zwischen Spielerinnen und Spielern unterscheiden zu können, wird jedem Punkt eine Farbe zugewiesen.\n",
    "Außerdem wird die Größe der Punkte definiert."
   ]
  },
  {
   "cell_type": "code",
   "execution_count": 16,
   "metadata": {},
   "outputs": [],
   "source": [
    "# Um sie zu unterscheiden, wird den Punkten eine Farbe zugeordnet\n",
    "color = np.array(['black','black','black', 'red', 'red', 'red', 'red'])\n",
    "# Die Größe der Punkte wird noch definiert\n",
    "size = np.array([1, 1, 1, 1, 1, 1, 1])"
   ]
  },
  {
   "cell_type": "markdown",
   "metadata": {},
   "source": [
    "Die Arrays lassen sich gemeinsam als eine Matrix verstehen, in deren Spalten die Parameter einer bestimmten Person gesammelt sind:\n",
    "$$\n",
    "\\begin{array}{c}\n",
    "\\begin{array}{cccc}\n",
    "x_1 & x_2 & color & size\n",
    "\\end{array}\n",
    "\\\\\n",
    "\\left(\\begin{array}{cccc}\n",
    "0.66 & 0.25 & 'black' & 1\n",
    "\\\\\n",
    "0.70 & 0.25 & 'black' & 1\n",
    "\\\\\n",
    "\\vdots & \\vdots & \\vdots & \\vdots\n",
    "\\\\\n",
    "0.82 & 0.50 & 'red' & 1\n",
    "\\end{array}\n",
    "\\right)\n",
    "\\end{array}\n",
    "$$"
   ]
  },
  {
   "cell_type": "markdown",
   "metadata": {},
   "source": [
    "Schritt 5:\n",
    "\n",
    "Diese Parameter lassen sich in einem Plot umsetzen."
   ]
  },
  {
   "cell_type": "code",
   "execution_count": 17,
   "metadata": {},
   "outputs": [
    {
     "data": {
      "text/plain": [
       "<matplotlib.collections.PathCollection at 0x20615a5f370>"
      ]
     },
     "execution_count": 17,
     "metadata": {},
     "output_type": "execute_result"
    },
    {
     "data": {
      "image/png": "[encoded data removed]",
      "text/plain": [
       "<Figure size 432x288 with 1 Axes>"
      ]
     },
     "metadata": {
      "needs_background": "light"
     },
     "output_type": "display_data"
    }
   ],
   "source": [
    "plt.scatter(x1, x2, c=color, s=size)"
   ]
  },
  {
   "cell_type": "markdown",
   "metadata": {},
   "source": [
    "Schritt 6:\n",
    "\n",
    "Zur Skalierung und der Übersicht halber werden Achsen ausgegeben.\n",
    "Ferner werden ihre Achseneinstellungen gesetzt, von 0 bis 1 zu laufen."
   ]
  },
  {
   "cell_type": "code",
   "execution_count": 18,
   "metadata": {},
   "outputs": [
    {
     "data": {
      "text/plain": [
       "([<matplotlib.axis.YTick at 0x20615aa61f0>,\n",
       "  <matplotlib.axis.YTick at 0x20615aa2dc0>],\n",
       " [Text(0, 0, ''), Text(0, 0, '')])"
      ]
     },
     "execution_count": 18,
     "metadata": {},
     "output_type": "execute_result"
    },
    {
     "data": {
      "image/png": "[encoded data removed]",
      "text/plain": [
       "<Figure size 432x288 with 1 Axes>"
      ]
     },
     "metadata": {
      "needs_background": "light"
     },
     "output_type": "display_data"
    }
   ],
   "source": [
    "plt.grid(True)\n",
    "plt.xticks([0.0,1.0])\n",
    "plt.yticks([0.0,1.0])"
   ]
  },
  {
   "cell_type": "markdown",
   "metadata": {},
   "source": [
    "Schritt 7:\n",
    "\n",
    "Letztlich wird der Plot augegeben."
   ]
  },
  {
   "cell_type": "code",
   "execution_count": 19,
   "metadata": {},
   "outputs": [],
   "source": [
    "plt.show()"
   ]
  },
  {
   "cell_type": "markdown",
   "metadata": {},
   "source": [
    "Zur Unterscheidung zwischen männlichen und weiblichen Spielern ist anschaulich betrachtet zwischen den Werten / im Graphen eine \"Grenze\" zu legen, so dass auf der einen Seite Markierungen von Frauen und auf der anderen Seite Markierungen von Männern liegen. Dem Tupel einer Frau soll eine 0, dem Tupel eines Manns eine 1 zugeordnet werden.\n",
    "\n",
    "Wie lässt sich eine Grenze ziehen? Hierzu betrachten wir zunächst einmal die Gleichung\n",
    "\\begin{equation}\n",
    "\\Sigma' = (w_1 \\quad w_2)\\odot \\left(\\begin{array}{c} x_1 \\\\ x_2 \\end{array}\\right) = w_1 \\cdot x_1 + w_2 \\cdot x_2\\, .\n",
    "\\end{equation}\n",
    "Um die Schreibweise später zu vereinheitlichen und übersichtlicher zu machen, schreiben wir ab jetzt $\\Sigma$ als\n",
    "$$\n",
    "\\Sigma = w_1 \\cdot x_1 + w_2\\cdot x_2 - \\phi = \\Sigma'-\\phi\\, .\n",
    "$$\n",
    "Damit ist die Funktion $f$ in jedem Fall gegeben durch\n",
    "$$\n",
    "f(\\Sigma) = \\left\\{ \\begin{array}{cl} 0 & \\mbox{für } \\Sigma < 0 \\\\ 1 & \\mbox{für } \\Sigma \\geq 0 \\end{array}\\right. ,\n",
    "$$\n",
    "Bringt man $\\Sigma$ auf die andere Seite, so wird klar, dass es sich um Geradengleichung handelt. Eine Gerade separiert zwei Halbebenen im $\\mathbb{R}^2$ von einander. Die Ausgabe des Neurons zeigt an, in welcher Halbebene der Punkt $(x_1,x_2)$ liegt. Die Fragestellung lässt sich also graphisch betrachet so verstehen, dass eine Gerade die Punkte von Frauen und Männern von einander trennt.\n",
    "\n",
    "Betrachten wir die Zuordnungsvorschrift $f$ mit\n",
    "$$\n",
    "f(\\Sigma) = \\left\\{ \\begin{array}{cl} 0 & \\mbox{für } \\Sigma < 0 \\\\ 1 & \\mbox{für } \\Sigma \\geq 0 \\end{array}\\right. ,\n",
    "$$\n",
    "so zeigt es an, dass genau die Gerade zur Gleichung $w_1 \\cdot x_1 + w_2 \\cdot x_2 = \\phi$ mit dem Schwellenwert $\\phi$ betrachtet werden sollte. Hierbei ist $\\phi$ als weitere Variable zu verstehen.         \n",
    "\n",
    "Um eine Möglichkeit zu bekommen, die Gerade zu zeichnen, definieren wir sie als Funktion. Dies bedeutet, dass wir obige Gleichung nach $x_2$ auflösen:\n",
    "\\begin{eqnarray}\n",
    "w_1 \\cdot x_1 + w_2 \\cdot x_2 &=& \\phi\n",
    "\\\\\n",
    "\\iff w_2 \\cdot x_2 &=& - w_1 \\cdot x_1+ \\phi\n",
    "\\\\\n",
    "\\iff x_2 &=& - \\frac{w_1}{w_2} \\cdot x_1 + \\frac{\\phi}{w_2}\n",
    "\\end{eqnarray}\n",
    "Die Zeichnung einer solchen Gerade lässt sich mit Python umsetzen. Hierzu ergänzen wir das letzte Programm."
   ]
  },
  {
   "cell_type": "markdown",
   "metadata": {},
   "source": [
    "Die ersten Schritte verlaufen analog zu oben:"
   ]
  },
  {
   "cell_type": "code",
   "execution_count": 20,
   "metadata": {},
   "outputs": [
    {
     "data": {
      "text/plain": [
       "([<matplotlib.axis.YTick at 0x20615aed160>,\n",
       "  <matplotlib.axis.YTick at 0x20615aead30>],\n",
       " [Text(0, 0, ''), Text(0, 0, '')])"
      ]
     },
     "execution_count": 20,
     "metadata": {},
     "output_type": "execute_result"
    },
    {
     "data": {
      "image/png": "[encoded data removed]",
      "text/plain": [
       "<Figure size 432x288 with 1 Axes>"
      ]
     },
     "metadata": {
      "needs_background": "light"
     },
     "output_type": "display_data"
    }
   ],
   "source": [
    "# Skatter-Plot (Streudiagramm)\n",
    "import matplotlib.pyplot as plt\n",
    "# Um einen Plot anzuzeigen\n",
    "%matplotlib inline\n",
    "\n",
    "import numpy as np\n",
    "#import atplotlib\n",
    "# Python Listen sind in NumPy-Arrays umzuwandeln, um eine Anwendung möglich zu machen\n",
    "\n",
    "# Hier werden die x_1-Koordinaten definiert\n",
    "x1 = np.array([0.66, 0.70, 0.76, 0.70, 0.74, 0.78, 0.82])\n",
    "# Hier werden die x_2-Koordinaten definiert\n",
    "x2 = np.array([0.25, 0.25, 0.35, 0.35, 0.40, 0.50, 0.50])\n",
    "# Um sie zu unterscheiden, wird den Punkten eine Farbe zugeordnet\n",
    "color = np.array(['black','black','black', 'red', 'red', 'red', 'red'])\n",
    "# Die Größe der Punkte wird noch definiert\n",
    "size = np.array([1, 1, 1, 1, 1, 1, 1])\n",
    "\n",
    "#Achsen werden ausgegeben\n",
    "plt.grid(True)\n",
    "\n",
    "# Diese Paraymeter werden in einem Plot umgesetzt\n",
    "plt.scatter(x1, x2, c=color, s=size)\n",
    "\n",
    "# Achseneinstellungen setzen\n",
    "plt.xticks([0.0,1.0])\n",
    "plt.yticks([0.0,1.0])"
   ]
  },
  {
   "cell_type": "markdown",
   "metadata": {},
   "source": [
    "Hier folgen den Schritten 1 bis 7 von oben noch folgende Schritte:"
   ]
  },
  {
   "cell_type": "markdown",
   "metadata": {},
   "source": [
    "Schritt 8:\n",
    "\n",
    "Definition der Eingangsgewichte $w_1$ und $w_2$ für das Netz."
   ]
  },
  {
   "cell_type": "code",
   "execution_count": 21,
   "metadata": {},
   "outputs": [],
   "source": [
    "w11 = -1.0\n",
    "w21 = 0.8"
   ]
  },
  {
   "cell_type": "markdown",
   "metadata": {},
   "source": [
    "Schritt 9:\n",
    "\n",
    "Definition des Schwellenwerts $\\phi$"
   ]
  },
  {
   "cell_type": "code",
   "execution_count": 22,
   "metadata": {},
   "outputs": [],
   "source": [
    "phi = 0.4"
   ]
  },
  {
   "cell_type": "markdown",
   "metadata": {},
   "source": [
    "Schritt 10:\n",
    "\n",
    "Der folgende Befehl definiert ein array von 0 bis 1, das aus zwei Werten besteht. (Bei mehr als zwei geforderten Werten sind diese auf das Intervall gleichverteilt.)\n",
    "\n",
    "Diese Liste wird anschließend ausgegeben."
   ]
  },
  {
   "cell_type": "code",
   "execution_count": 23,
   "metadata": {},
   "outputs": [
    {
     "name": "stdout",
     "output_type": "stream",
     "text": [
      "[0. 1.]\n"
     ]
    }
   ],
   "source": [
    "xListe = np.linspace (0.0,1.0,2)\n",
    "print(xListe)"
   ]
  },
  {
   "cell_type": "markdown",
   "metadata": {},
   "source": [
    "Schritt 11:\n",
    "\n",
    "Hier wird ein $\\Lambda$-Operator definiert. Er dient zur Definition von Operatoren mehrerer Variablen.\n",
    "\n",
    "Anschließend werden vier Variablen festgelegt: $x, \\phi, w_1, w_2$\n",
    "\n",
    "Hinter dem Doppelpunkt steht die Operation, durch die diese Werte miteinander verknüpft sind.\n",
    "\n",
    "Es handelt es sich um den Term der linearen Separation der Klassen, der damit eine Gerade beschreibt."
   ]
  },
  {
   "cell_type": "code",
   "execution_count": 24,
   "metadata": {},
   "outputs": [],
   "source": [
    "xLine = lambda x,phi,w1,w2: -w1/w2*x - phi/w2"
   ]
  },
  {
   "cell_type": "markdown",
   "metadata": {},
   "source": [
    "Schritt 12:\n",
    "\n",
    "In den $\\Lambda$-Operator von oben werden für $w_0$, $w_1$ und $w_2$ die zuvor definierten Werte $w_{01}, w_{11}, w_{21}$ eingesetzt.\n",
    "\n",
    "Für $x$ wird jeder Wert der $\\mathtt{xListe}$ eingesetzt. Dies führt hier zu einer Liste von zwei Elementen.\n",
    "\n",
    "Durch die zur $\\mathtt{xLine}$ gehörenden Punkte wird durch $\\mathtt{plot}$ eine Gerade gezogen.\n",
    "\n",
    "$\\mathbf{Achtung!}$ Für den Graph werden immer die $x$-Werte 0 und 1 genommen, ganz egal, was für die $\\mathtt{xListe}$ gewählt wurde!"
   ]
  },
  {
   "cell_type": "code",
   "execution_count": 25,
   "metadata": {},
   "outputs": [
    {
     "name": "stdout",
     "output_type": "stream",
     "text": [
      "[-0.5   0.75]\n"
     ]
    },
    {
     "data": {
      "text/plain": [
       "[<matplotlib.lines.Line2D at 0x20615b51100>]"
      ]
     },
     "execution_count": 25,
     "metadata": {},
     "output_type": "execute_result"
    },
    {
     "data": {
      "image/png": "[encoded data removed]",
      "text/plain": [
       "<Figure size 432x288 with 1 Axes>"
      ]
     },
     "metadata": {
      "needs_background": "light"
     },
     "output_type": "display_data"
    }
   ],
   "source": [
    "print(xLine(xListe,phi,w11,w21))\n",
    "plt.plot(xLine(xListe,phi,w11,w21))"
   ]
  },
  {
   "cell_type": "markdown",
   "metadata": {},
   "source": [
    "Schritt 13:\n",
    "\n",
    "Letztlich wird der Plot ausgegeben. Alles zusammen sieht folgendermaßen aus:"
   ]
  },
  {
   "cell_type": "code",
   "execution_count": 26,
   "metadata": {},
   "outputs": [
    {
     "name": "stdout",
     "output_type": "stream",
     "text": [
      "[0. 1.]\n",
      "[-0.5   0.75]\n"
     ]
    },
    {
     "data": {
      "image/png": "[encoded data removed]",
      "text/plain": [
       "<Figure size 432x288 with 1 Axes>"
      ]
     },
     "metadata": {
      "needs_background": "light"
     },
     "output_type": "display_data"
    }
   ],
   "source": [
    "# Skatter-Plot (Streudiagramm)\n",
    "import matplotlib.pyplot as plt\n",
    "# Um einen Plot anzuzeigen\n",
    "%matplotlib inline\n",
    "\n",
    "import numpy as np\n",
    "#import atplotlib\n",
    "# Python Listen sind in NumPy-Arrays umzuwandeln, um eine Anwendung möglich zu machen\n",
    "\n",
    "# Hier werden die x_1-Koordinaten definiert\n",
    "x1 = np.array([0.66, 0.70, 0.76, 0.70, 0.74, 0.78, 0.82])\n",
    "# Hier werden die x_2-Koordinaten definiert\n",
    "x2 = np.array([0.25, 0.25, 0.35, 0.35, 0.40, 0.50, 0.50])\n",
    "# Um sie zu unterscheiden, wird den Punkten eine Farbe zugeordnet\n",
    "color = np.array(['black','black','black', 'red', 'red', 'red', 'red'])\n",
    "# Die Größe der Punkte wird noch definiert\n",
    "size = np.array([1, 1, 1, 1, 1, 1, 1])\n",
    "\n",
    "#Achsen werden ausgegeben\n",
    "plt.grid(True)\n",
    "\n",
    "# Diese Paraymeter werden in einem Plot umgesetzt\n",
    "plt.scatter(x1, x2, c=color, s=size)\n",
    "\n",
    "# Achseneinstellungen setzen\n",
    "plt.xticks([0.0,1.0])\n",
    "plt.yticks([0.0,1.0])\n",
    "\n",
    "w11 = -1.0\n",
    "w21 = 0.8\n",
    "\n",
    "phi = 0.4\n",
    "\n",
    "xListe = np.linspace (0.0,1.0,2)\n",
    "print(xListe)\n",
    "\n",
    "xLine = lambda x,phi,w1,w2: -w1/w2*x - phi/w2\n",
    "\n",
    "print(xLine(xListe,phi,w11,w21))\n",
    "plt.plot(xLine(xListe,phi,w11,w21))\n",
    "\n",
    "plt.show()"
   ]
  },
  {
   "cell_type": "markdown",
   "metadata": {},
   "source": [
    "Wie sich an dem Ergebnis zeigt, ist der Verlauf der Gerade abhängig von $w_1, w_2$ und $\\phi$. Die Eingangsgewichte und der Schwellenwert sind also sinnvoll zu wählen, um das Ziel zu erreichen, die Daten mithilfe der zugehörigen Gerade in zwei Klassen zu unterteilen und die Zugehörigkeit von Daten (auch für weitere Daten) möglich zu machen.\n",
    "\n",
    "Übertragen auf die Erklärung weiter oben heißt dies, dass ein Schwellenwert zu finden ist, so dass die zugehörige Gerade so zwischen den Punkten $(x_1,x_2)$ verläuft, dass auf ihrer einen Seite zu Frauen gehörende Punkte und auf der anderen Seite zu Männern gehörende Punkte liegen.\n",
    "\n",
    "### Aufgabe 4\n",
    "Das folgende Programm ist identisch mit dem Programm oben. Verändere $w_1, w_2$ und $\\phi$ so, dass die Trennungsgerade ihren Zweck erfüllt."
   ]
  },
  {
   "cell_type": "code",
   "execution_count": 27,
   "metadata": {},
   "outputs": [
    {
     "name": "stdout",
     "output_type": "stream",
     "text": [
      "[0. 1.]\n",
      "[-0.5   0.75]\n"
     ]
    },
    {
     "data": {
      "image/png": "[encoded data removed]",
      "text/plain": [
       "<Figure size 432x288 with 1 Axes>"
      ]
     },
     "metadata": {
      "needs_background": "light"
     },
     "output_type": "display_data"
    }
   ],
   "source": [
    "# Skatter-Plot (Streudiagramm)\n",
    "import matplotlib.pyplot as plt\n",
    "# Um einen Plot anzuzeigen\n",
    "%matplotlib inline\n",
    "\n",
    "import numpy as np\n",
    "#import atplotlib\n",
    "# Python Listen sind in NumPy-Arrays umzuwandeln, um eine Anwendung möglich zu machen\n",
    "\n",
    "# Hier werden die x_1-Koordinaten definiert\n",
    "x1 = np.array([0.66, 0.70, 0.76, 0.70, 0.74, 0.78, 0.82])\n",
    "# Hier werden die x_2-Koordinaten definiert\n",
    "x2 = np.array([0.25, 0.25, 0.35, 0.35, 0.40, 0.50, 0.50])\n",
    "# Um sie zu unterscheiden, wird den Punkten eine Farbe zugeordnet\n",
    "color = np.array(['black','black','black', 'red', 'red', 'red', 'red'])\n",
    "# Die Größe der Punkte wird noch definiert\n",
    "size = np.array([1, 1, 1, 1, 1, 1, 1])\n",
    "\n",
    "#Achsen werden ausgegeben\n",
    "plt.grid(True)\n",
    "\n",
    "# Diese Paraymeter werden in einem Plot umgesetzt\n",
    "plt.scatter(x1, x2, c=color, s=size)\n",
    "\n",
    "# Achseneinstellungen setzen\n",
    "plt.xticks([0.0,1.0])\n",
    "plt.yticks([0.0,1.0])\n",
    "\n",
    "w11 = -1.0\n",
    "w21 = 0.8\n",
    "\n",
    "phi = 0.4\n",
    "\n",
    "xListe = np.linspace (0.0,1.0,2)\n",
    "print(xListe)\n",
    "\n",
    "xLine = lambda x,phi,w1,w2: -w1/w2*x - phi/w2\n",
    "\n",
    "print(xLine(xListe,phi,w11,w21))\n",
    "plt.plot(xLine(xListe,phi,w11,w21))\n",
    "\n",
    "plt.show()"
   ]
  },
  {
   "cell_type": "markdown",
   "metadata": {},
   "source": [
    "An dieser Stelle werden zwei Dinge deutlich:\n",
    " \n",
    "1. Die Lösung ist nicht unbedingt eindeutig. Unter Umständen gibt es für den Verlauf der Gerade zwischen den Punkten mehrere Lösungen. Ferner ist es evtl. nicht notwendig oder auch nicht möglich, eine Gerade zu finden, die die Bedingungen erfüllt.\n",
    "2. Es wird womöglich nicht unmittelbar passende Parameter für eine Grenze gewählt. Es werden mehrere Schritte benörigt.\n",
    "\n",
    "Hier stellt sich die Frage, ob es nicht ein Verfahren gibt, mit der sich eine mögliche Lösung bestimmen lässt.\n",
    "Es wäre schön, wenn es einen Algorithmus gäbe, der durch mehrfache Hintereinanderausführung zum Ziel führt, da man diesen Algorithmus an den Computer geben kann. Welche Bedingungen stelle ich also an $\\phi$? Wie finde ich das \"richtige\" $\\phi$?\n",
    "\n",
    "Diese Fragen werden weiter unten beantwortet."
   ]
  },
  {
   "cell_type": "markdown",
   "metadata": {},
   "source": [
    "### Aufgabe 5\n",
    "Zeichne ein Flussdiagramm zu obiger Tabelle."
   ]
  }
 ],
 "metadata": {
  "kernelspec": {
   "display_name": "Python 3",
   "language": "python",
   "name": "python3"
  },
  "language_info": {
   "codemirror_mode": {
    "name": "ipython",
    "version": 3
   },
   "file_extension": ".py",
   "mimetype": "text/x-python",
   "name": "python",
   "nbconvert_exporter": "python",
   "pygments_lexer": "ipython3",
   "version": "3.8.8"
  }
 },
 "nbformat": 4,
 "nbformat_minor": 2
}
